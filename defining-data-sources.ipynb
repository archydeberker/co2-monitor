{
 "cells": [
  {
   "cell_type": "code",
   "execution_count": 2,
   "metadata": {},
   "outputs": [
    {
     "name": "stdout",
     "output_type": "stream",
     "text": [
      "Collecting pandas\n",
      "\u001b[?25l  Downloading https://files.pythonhosted.org/packages/2a/67/0a59cb257c72bb837575ca0ddf5f0fe2a482e98209b7a1bed8cde68ddb46/pandas-0.24.2-cp36-cp36m-macosx_10_6_intel.macosx_10_9_intel.macosx_10_9_x86_64.macosx_10_10_intel.macosx_10_10_x86_64.whl (16.3MB)\n",
      "\u001b[K    100% |████████████████████████████████| 16.3MB 638kB/s \n",
      "\u001b[?25hRequirement already satisfied: python-dateutil>=2.5.0 in /Users/archy/anaconda/envs/co2/lib/python3.6/site-packages (from pandas) (2.8.0)\n",
      "Collecting pytz>=2011k (from pandas)\n",
      "\u001b[?25l  Downloading https://files.pythonhosted.org/packages/61/28/1d3920e4d1d50b19bc5d24398a7cd85cc7b9a75a490570d5a30c57622d34/pytz-2018.9-py2.py3-none-any.whl (510kB)\n",
      "\u001b[K    100% |████████████████████████████████| 512kB 2.2MB/s \n",
      "\u001b[?25hCollecting numpy>=1.12.0 (from pandas)\n",
      "\u001b[?25l  Downloading https://files.pythonhosted.org/packages/93/0e/30aaa357c3065957344b240482818eef31d4080f73dfa5f1ef7dcd8744d2/numpy-1.16.2-cp36-cp36m-macosx_10_6_intel.macosx_10_9_intel.macosx_10_9_x86_64.macosx_10_10_intel.macosx_10_10_x86_64.whl (13.9MB)\n",
      "\u001b[K    100% |████████████████████████████████| 13.9MB 627kB/s \n",
      "\u001b[?25hRequirement already satisfied: six>=1.5 in /Users/archy/anaconda/envs/co2/lib/python3.6/site-packages (from python-dateutil>=2.5.0->pandas) (1.12.0)\n",
      "Installing collected packages: pytz, numpy, pandas\n",
      "Successfully installed numpy-1.16.2 pandas-0.24.2 pytz-2018.9\n"
     ]
    }
   ],
   "source": [
    "!pip install pandas"
   ]
  },
  {
   "cell_type": "code",
   "execution_count": 3,
   "metadata": {},
   "outputs": [
    {
     "name": "stdout",
     "output_type": "stream",
     "text": [
      "Collecting plotly==3.0\n",
      "\u001b[?25l  Downloading https://files.pythonhosted.org/packages/cc/3f/8d829057ef393f5b1e5b37742f215430648502983cf6824f75031dd461e5/plotly-3.0.0.tar.gz (30.1MB)\n",
      "\u001b[K    100% |████████████████████████████████| 30.1MB 450kB/s \n",
      "\u001b[?25hRequirement already satisfied: decorator>=4.0.6 in /Users/archy/anaconda/envs/co2/lib/python3.6/site-packages (from plotly==3.0) (4.4.0)\n",
      "Requirement already satisfied: nbformat>=4.2 in /Users/archy/anaconda/envs/co2/lib/python3.6/site-packages (from plotly==3.0) (4.4.0)\n",
      "Requirement already satisfied: pytz in /Users/archy/anaconda/envs/co2/lib/python3.6/site-packages (from plotly==3.0) (2018.9)\n",
      "Collecting requests (from plotly==3.0)\n",
      "  Using cached https://files.pythonhosted.org/packages/7d/e3/20f3d364d6c8e5d2353c72a67778eb189176f08e873c9900e10c0287b84b/requests-2.21.0-py2.py3-none-any.whl\n",
      "Collecting retrying>=1.3.3 (from plotly==3.0)\n",
      "Requirement already satisfied: six in /Users/archy/anaconda/envs/co2/lib/python3.6/site-packages (from plotly==3.0) (1.12.0)\n",
      "Requirement already satisfied: ipython-genutils in /Users/archy/anaconda/envs/co2/lib/python3.6/site-packages (from nbformat>=4.2->plotly==3.0) (0.2.0)\n",
      "Requirement already satisfied: traitlets>=4.1 in /Users/archy/anaconda/envs/co2/lib/python3.6/site-packages (from nbformat>=4.2->plotly==3.0) (4.3.2)\n",
      "Requirement already satisfied: jupyter-core in /Users/archy/anaconda/envs/co2/lib/python3.6/site-packages (from nbformat>=4.2->plotly==3.0) (4.4.0)\n",
      "Requirement already satisfied: jsonschema!=2.5.0,>=2.4 in /Users/archy/anaconda/envs/co2/lib/python3.6/site-packages (from nbformat>=4.2->plotly==3.0) (3.0.1)\n",
      "Collecting urllib3<1.25,>=1.21.1 (from requests->plotly==3.0)\n",
      "  Using cached https://files.pythonhosted.org/packages/62/00/ee1d7de624db8ba7090d1226aebefab96a2c71cd5cfa7629d6ad3f61b79e/urllib3-1.24.1-py2.py3-none-any.whl\n",
      "Collecting chardet<3.1.0,>=3.0.2 (from requests->plotly==3.0)\n",
      "  Using cached https://files.pythonhosted.org/packages/bc/a9/01ffebfb562e4274b6487b4bb1ddec7ca55ec7510b22e4c51f14098443b8/chardet-3.0.4-py2.py3-none-any.whl\n",
      "Requirement already satisfied: certifi>=2017.4.17 in /Users/archy/anaconda/envs/co2/lib/python3.6/site-packages (from requests->plotly==3.0) (2019.3.9)\n",
      "Collecting idna<2.9,>=2.5 (from requests->plotly==3.0)\n",
      "  Using cached https://files.pythonhosted.org/packages/14/2c/cd551d81dbe15200be1cf41cd03869a46fe7226e7450af7a6545bfc474c9/idna-2.8-py2.py3-none-any.whl\n",
      "Requirement already satisfied: pyrsistent>=0.14.0 in /Users/archy/anaconda/envs/co2/lib/python3.6/site-packages (from jsonschema!=2.5.0,>=2.4->nbformat>=4.2->plotly==3.0) (0.14.11)\n",
      "Requirement already satisfied: setuptools in /Users/archy/anaconda/envs/co2/lib/python3.6/site-packages (from jsonschema!=2.5.0,>=2.4->nbformat>=4.2->plotly==3.0) (40.8.0)\n",
      "Requirement already satisfied: attrs>=17.4.0 in /Users/archy/anaconda/envs/co2/lib/python3.6/site-packages (from jsonschema!=2.5.0,>=2.4->nbformat>=4.2->plotly==3.0) (19.1.0)\n",
      "Building wheels for collected packages: plotly\n",
      "  Building wheel for plotly (setup.py) ... \u001b[?25ldone\n",
      "\u001b[?25h  Stored in directory: /Users/archy/Library/Caches/pip/wheels/21/0f/61/fb0fe2124addb33fbceda237993ee152c24812c57576e77989\n",
      "Successfully built plotly\n",
      "Installing collected packages: urllib3, chardet, idna, requests, retrying, plotly\n",
      "Successfully installed chardet-3.0.4 idna-2.8 plotly-3.0.0 requests-2.21.0 retrying-1.3.3 urllib3-1.24.1\n"
     ]
    }
   ],
   "source": [
    "!pip install plotly==3.0"
   ]
  },
  {
   "cell_type": "code",
   "execution_count": 53,
   "metadata": {},
   "outputs": [
    {
     "name": "stdout",
     "output_type": "stream",
     "text": [
      "Collecting seaborn\n",
      "  Using cached https://files.pythonhosted.org/packages/a8/76/220ba4420459d9c4c9c9587c6ce607bf56c25b3d3d2de62056efe482dadc/seaborn-0.9.0-py3-none-any.whl\n",
      "Requirement already satisfied: pandas>=0.15.2 in /Users/archy/anaconda/envs/co2/lib/python3.6/site-packages (from seaborn) (0.24.2)\n",
      "Collecting scipy>=0.14.0 (from seaborn)\n",
      "\u001b[?25l  Downloading https://files.pythonhosted.org/packages/f4/b1/6e0c995d7646b12112a721e93dc6316409cc4827c10ee309747f45ea6bfd/scipy-1.2.1-cp36-cp36m-macosx_10_6_intel.macosx_10_9_intel.macosx_10_9_x86_64.macosx_10_10_intel.macosx_10_10_x86_64.whl (27.4MB)\n",
      "\u001b[K    100% |████████████████████████████████| 27.4MB 437kB/s \n",
      "\u001b[?25hCollecting matplotlib>=1.4.3 (from seaborn)\n",
      "\u001b[?25l  Downloading https://files.pythonhosted.org/packages/82/7e/184d995d711e3401722769cd6982b46d42aee14a82ba54a3a79425f939c9/matplotlib-3.0.3-cp36-cp36m-macosx_10_6_intel.macosx_10_9_intel.macosx_10_9_x86_64.macosx_10_10_intel.macosx_10_10_x86_64.whl (14.3MB)\n",
      "\u001b[K    100% |████████████████████████████████| 14.3MB 757kB/s \n",
      "\u001b[?25hRequirement already satisfied: numpy>=1.9.3 in /Users/archy/anaconda/envs/co2/lib/python3.6/site-packages (from seaborn) (1.16.2)\n",
      "Requirement already satisfied: python-dateutil>=2.5.0 in /Users/archy/anaconda/envs/co2/lib/python3.6/site-packages (from pandas>=0.15.2->seaborn) (2.8.0)\n",
      "Requirement already satisfied: pytz>=2011k in /Users/archy/anaconda/envs/co2/lib/python3.6/site-packages (from pandas>=0.15.2->seaborn) (2018.9)\n",
      "Collecting pyparsing!=2.0.4,!=2.1.2,!=2.1.6,>=2.0.1 (from matplotlib>=1.4.3->seaborn)\n",
      "\u001b[?25l  Downloading https://files.pythonhosted.org/packages/de/0a/001be530836743d8be6c2d85069f46fecf84ac6c18c7f5fb8125ee11d854/pyparsing-2.3.1-py2.py3-none-any.whl (61kB)\n",
      "\u001b[K    100% |████████████████████████████████| 71kB 4.4MB/s \n",
      "\u001b[?25hCollecting kiwisolver>=1.0.1 (from matplotlib>=1.4.3->seaborn)\n",
      "  Using cached https://files.pythonhosted.org/packages/fb/96/619db9bf08f652790fa9f3c3884a67dc43da4bdaa185a5aa2117eb4651e1/kiwisolver-1.0.1-cp36-cp36m-macosx_10_6_intel.macosx_10_9_intel.macosx_10_9_x86_64.macosx_10_10_intel.macosx_10_10_x86_64.whl\n",
      "Collecting cycler>=0.10 (from matplotlib>=1.4.3->seaborn)\n",
      "  Using cached https://files.pythonhosted.org/packages/f7/d2/e07d3ebb2bd7af696440ce7e754c59dd546ffe1bbe732c8ab68b9c834e61/cycler-0.10.0-py2.py3-none-any.whl\n",
      "Requirement already satisfied: six>=1.5 in /Users/archy/anaconda/envs/co2/lib/python3.6/site-packages (from python-dateutil>=2.5.0->pandas>=0.15.2->seaborn) (1.12.0)\n",
      "Requirement already satisfied: setuptools in /Users/archy/anaconda/envs/co2/lib/python3.6/site-packages (from kiwisolver>=1.0.1->matplotlib>=1.4.3->seaborn) (40.8.0)\n",
      "Installing collected packages: scipy, pyparsing, kiwisolver, cycler, matplotlib, seaborn\n",
      "Successfully installed cycler-0.10.0 kiwisolver-1.0.1 matplotlib-3.0.3 pyparsing-2.3.1 scipy-1.2.1 seaborn-0.9.0\n"
     ]
    }
   ],
   "source": [
    "!pip install seaborn"
   ]
  },
  {
   "cell_type": "code",
   "execution_count": 1,
   "metadata": {},
   "outputs": [],
   "source": [
    "import pandas as pd\n",
    "import seaborn as sns\n",
    "import matplotlib.pyplot as plt\n",
    "import numpy as np"
   ]
  },
  {
   "cell_type": "code",
   "execution_count": 11,
   "metadata": {},
   "outputs": [],
   "source": [
    "manua_data = 'http://scrippsco2.ucsd.edu/assets/data/atmospheric/stations/in_situ_co2/weekly/weekly_in_situ_co2_mlo.csv'"
   ]
  },
  {
   "cell_type": "code",
   "execution_count": 12,
   "metadata": {},
   "outputs": [],
   "source": [
    "alert_data = 'http://scrippsco2.ucsd.edu/assets/data/atmospheric/stations/flask_co2/daily/daily_flask_co2_alt.csv'"
   ]
  },
  {
   "cell_type": "code",
   "execution_count": 13,
   "metadata": {},
   "outputs": [],
   "source": [
    "south_pole_data = 'http://scrippsco2.ucsd.edu/assets/data/atmospheric/stations/merged_in_situ_and_flask/daily/daily_merge_co2_spo.csv'"
   ]
  },
  {
   "cell_type": "markdown",
   "metadata": {},
   "source": [
    "# Parse data"
   ]
  },
  {
   "cell_type": "code",
   "execution_count": 14,
   "metadata": {},
   "outputs": [
    {
     "data": {
      "text/html": [
       "<div>\n",
       "<style scoped>\n",
       "    .dataframe tbody tr th:only-of-type {\n",
       "        vertical-align: middle;\n",
       "    }\n",
       "\n",
       "    .dataframe tbody tr th {\n",
       "        vertical-align: top;\n",
       "    }\n",
       "\n",
       "    .dataframe thead th {\n",
       "        text-align: right;\n",
       "    }\n",
       "</style>\n",
       "<table border=\"1\" class=\"dataframe\">\n",
       "  <thead>\n",
       "    <tr style=\"text-align: right;\">\n",
       "      <th></th>\n",
       "      <th>date</th>\n",
       "      <th>CO2 in ppm</th>\n",
       "      <th>location</th>\n",
       "    </tr>\n",
       "  </thead>\n",
       "  <tbody>\n",
       "    <tr>\n",
       "      <th>3103</th>\n",
       "      <td>2019-01-26</td>\n",
       "      <td>410.91</td>\n",
       "      <td>Manua Loa</td>\n",
       "    </tr>\n",
       "    <tr>\n",
       "      <th>3104</th>\n",
       "      <td>2019-02-02</td>\n",
       "      <td>410.97</td>\n",
       "      <td>Manua Loa</td>\n",
       "    </tr>\n",
       "    <tr>\n",
       "      <th>3105</th>\n",
       "      <td>2019-02-09</td>\n",
       "      <td>412.12</td>\n",
       "      <td>Manua Loa</td>\n",
       "    </tr>\n",
       "    <tr>\n",
       "      <th>3106</th>\n",
       "      <td>2019-02-16</td>\n",
       "      <td>411.79</td>\n",
       "      <td>Manua Loa</td>\n",
       "    </tr>\n",
       "    <tr>\n",
       "      <th>3107</th>\n",
       "      <td>2019-02-23</td>\n",
       "      <td>411.46</td>\n",
       "      <td>Manua Loa</td>\n",
       "    </tr>\n",
       "  </tbody>\n",
       "</table>\n",
       "</div>"
      ],
      "text/plain": [
       "           date  CO2 in ppm   location\n",
       "3103 2019-01-26      410.91  Manua Loa\n",
       "3104 2019-02-02      410.97  Manua Loa\n",
       "3105 2019-02-09      412.12  Manua Loa\n",
       "3106 2019-02-16      411.79  Manua Loa\n",
       "3107 2019-02-23      411.46  Manua Loa"
      ]
     },
     "execution_count": 14,
     "metadata": {},
     "output_type": "execute_result"
    }
   ],
   "source": [
    "df_manua = pd.read_csv(manua_data, skiprows=44, names=['date', 'CO2 in ppm'], parse_dates=['date'])\n",
    "df_manua['location'] = 'Manua Loa'\n",
    "df_manua.tail()"
   ]
  },
  {
   "cell_type": "code",
   "execution_count": 15,
   "metadata": {},
   "outputs": [
    {
     "data": {
      "text/html": [
       "<div>\n",
       "<style scoped>\n",
       "    .dataframe tbody tr th:only-of-type {\n",
       "        vertical-align: middle;\n",
       "    }\n",
       "\n",
       "    .dataframe tbody tr th {\n",
       "        vertical-align: top;\n",
       "    }\n",
       "\n",
       "    .dataframe thead th {\n",
       "        text-align: right;\n",
       "    }\n",
       "</style>\n",
       "<table border=\"1\" class=\"dataframe\">\n",
       "  <thead>\n",
       "    <tr style=\"text-align: right;\">\n",
       "      <th></th>\n",
       "      <th>date</th>\n",
       "      <th>CO2 in ppm</th>\n",
       "      <th>location</th>\n",
       "    </tr>\n",
       "  </thead>\n",
       "  <tbody>\n",
       "    <tr>\n",
       "      <th>1461</th>\n",
       "      <td>2018-06-13</td>\n",
       "      <td>414.31</td>\n",
       "      <td>Alert</td>\n",
       "    </tr>\n",
       "    <tr>\n",
       "      <th>1462</th>\n",
       "      <td>2018-06-29</td>\n",
       "      <td>413.50</td>\n",
       "      <td>Alert</td>\n",
       "    </tr>\n",
       "    <tr>\n",
       "      <th>1463</th>\n",
       "      <td>2018-07-11</td>\n",
       "      <td>407.25</td>\n",
       "      <td>Alert</td>\n",
       "    </tr>\n",
       "    <tr>\n",
       "      <th>1464</th>\n",
       "      <td>2018-07-24</td>\n",
       "      <td>404.25</td>\n",
       "      <td>Alert</td>\n",
       "    </tr>\n",
       "    <tr>\n",
       "      <th>1465</th>\n",
       "      <td>2018-08-07</td>\n",
       "      <td>399.88</td>\n",
       "      <td>Alert</td>\n",
       "    </tr>\n",
       "  </tbody>\n",
       "</table>\n",
       "</div>"
      ],
      "text/plain": [
       "           date  CO2 in ppm location\n",
       "1461 2018-06-13      414.31    Alert\n",
       "1462 2018-06-29      413.50    Alert\n",
       "1463 2018-07-11      407.25    Alert\n",
       "1464 2018-07-24      404.25    Alert\n",
       "1465 2018-08-07      399.88    Alert"
      ]
     },
     "execution_count": 15,
     "metadata": {},
     "output_type": "execute_result"
    }
   ],
   "source": [
    "df_alert = pd.read_csv(alert_data, skiprows=69, usecols=[0,6], names=['date', 'CO2 in ppm'], parse_dates=['date'])\n",
    "df_alert['location'] = 'Alert'\n",
    "df_alert.tail()"
   ]
  },
  {
   "cell_type": "code",
   "execution_count": 16,
   "metadata": {},
   "outputs": [
    {
     "data": {
      "text/html": [
       "<div>\n",
       "<style scoped>\n",
       "    .dataframe tbody tr th:only-of-type {\n",
       "        vertical-align: middle;\n",
       "    }\n",
       "\n",
       "    .dataframe tbody tr th {\n",
       "        vertical-align: top;\n",
       "    }\n",
       "\n",
       "    .dataframe thead th {\n",
       "        text-align: right;\n",
       "    }\n",
       "</style>\n",
       "<table border=\"1\" class=\"dataframe\">\n",
       "  <thead>\n",
       "    <tr style=\"text-align: right;\">\n",
       "      <th></th>\n",
       "      <th>date</th>\n",
       "      <th>CO2 in ppm</th>\n",
       "      <th>location</th>\n",
       "    </tr>\n",
       "  </thead>\n",
       "  <tbody>\n",
       "    <tr>\n",
       "      <th>0</th>\n",
       "      <td>1957-05-17</td>\n",
       "      <td>314.95</td>\n",
       "      <td>South Pole</td>\n",
       "    </tr>\n",
       "    <tr>\n",
       "      <th>1</th>\n",
       "      <td>1957-06-17</td>\n",
       "      <td>312.80</td>\n",
       "      <td>South Pole</td>\n",
       "    </tr>\n",
       "    <tr>\n",
       "      <th>2</th>\n",
       "      <td>1957-09-02</td>\n",
       "      <td>312.96</td>\n",
       "      <td>South Pole</td>\n",
       "    </tr>\n",
       "    <tr>\n",
       "      <th>3</th>\n",
       "      <td>1957-09-23</td>\n",
       "      <td>313.44</td>\n",
       "      <td>South Pole</td>\n",
       "    </tr>\n",
       "    <tr>\n",
       "      <th>4</th>\n",
       "      <td>1957-12-22</td>\n",
       "      <td>314.46</td>\n",
       "      <td>South Pole</td>\n",
       "    </tr>\n",
       "  </tbody>\n",
       "</table>\n",
       "</div>"
      ],
      "text/plain": [
       "        date CO2 in ppm    location\n",
       "0 1957-05-17     314.95  South Pole\n",
       "1 1957-06-17     312.80  South Pole\n",
       "2 1957-09-02     312.96  South Pole\n",
       "3 1957-09-23     313.44  South Pole\n",
       "4 1957-12-22     314.46  South Pole"
      ]
     },
     "execution_count": 16,
     "metadata": {},
     "output_type": "execute_result"
    }
   ],
   "source": [
    "df_south_pole = pd.read_csv(south_pole_data, skiprows=71, usecols=[0,6], names=['date', 'CO2 in ppm'], parse_dates=['date'])\n",
    "df_south_pole['location'] = 'South Pole'\n",
    "df_south_pole.head()"
   ]
  },
  {
   "cell_type": "code",
   "execution_count": 17,
   "metadata": {},
   "outputs": [],
   "source": [
    "combined_df = pd.concat((df_manua, df_south_pole, df_alert))"
   ]
  },
  {
   "cell_type": "code",
   "execution_count": 18,
   "metadata": {},
   "outputs": [
    {
     "data": {
      "text/html": [
       "<div>\n",
       "<style scoped>\n",
       "    .dataframe tbody tr th:only-of-type {\n",
       "        vertical-align: middle;\n",
       "    }\n",
       "\n",
       "    .dataframe tbody tr th {\n",
       "        vertical-align: top;\n",
       "    }\n",
       "\n",
       "    .dataframe thead th {\n",
       "        text-align: right;\n",
       "    }\n",
       "</style>\n",
       "<table border=\"1\" class=\"dataframe\">\n",
       "  <thead>\n",
       "    <tr style=\"text-align: right;\">\n",
       "      <th></th>\n",
       "      <th>date</th>\n",
       "      <th>CO2 in ppm</th>\n",
       "      <th>location</th>\n",
       "    </tr>\n",
       "  </thead>\n",
       "  <tbody>\n",
       "    <tr>\n",
       "      <th>0</th>\n",
       "      <td>1958-03-29</td>\n",
       "      <td>316.19</td>\n",
       "      <td>Manua Loa</td>\n",
       "    </tr>\n",
       "    <tr>\n",
       "      <th>1</th>\n",
       "      <td>1958-04-05</td>\n",
       "      <td>317.31</td>\n",
       "      <td>Manua Loa</td>\n",
       "    </tr>\n",
       "    <tr>\n",
       "      <th>2</th>\n",
       "      <td>1958-04-12</td>\n",
       "      <td>317.69</td>\n",
       "      <td>Manua Loa</td>\n",
       "    </tr>\n",
       "    <tr>\n",
       "      <th>3</th>\n",
       "      <td>1958-04-19</td>\n",
       "      <td>317.58</td>\n",
       "      <td>Manua Loa</td>\n",
       "    </tr>\n",
       "    <tr>\n",
       "      <th>4</th>\n",
       "      <td>1958-04-26</td>\n",
       "      <td>316.48</td>\n",
       "      <td>Manua Loa</td>\n",
       "    </tr>\n",
       "  </tbody>\n",
       "</table>\n",
       "</div>"
      ],
      "text/plain": [
       "        date CO2 in ppm   location\n",
       "0 1958-03-29     316.19  Manua Loa\n",
       "1 1958-04-05     317.31  Manua Loa\n",
       "2 1958-04-12     317.69  Manua Loa\n",
       "3 1958-04-19     317.58  Manua Loa\n",
       "4 1958-04-26     316.48  Manua Loa"
      ]
     },
     "execution_count": 18,
     "metadata": {},
     "output_type": "execute_result"
    }
   ],
   "source": [
    "combined_df.head()"
   ]
  },
  {
   "cell_type": "code",
   "execution_count": 19,
   "metadata": {},
   "outputs": [],
   "source": [
    "combined_df['CO2 in ppm'] = combined_df['CO2 in ppm'].astype(np.float64)\n"
   ]
  },
  {
   "cell_type": "code",
   "execution_count": 20,
   "metadata": {},
   "outputs": [
    {
     "name": "stderr",
     "output_type": "stream",
     "text": [
      "/Users/archy/anaconda/envs/co2/lib/python3.6/site-packages/pandas/plotting/_converter.py:129: FutureWarning: Using an implicitly registered datetime converter for a matplotlib plotting method. The converter was registered by pandas on import. Future versions of pandas will require you to explicitly register matplotlib converters.\n",
      "\n",
      "To register the converters:\n",
      "\t>>> from pandas.plotting import register_matplotlib_converters\n",
      "\t>>> register_matplotlib_converters()\n",
      "  warnings.warn(msg, FutureWarning)\n"
     ]
    },
    {
     "data": {
      "text/plain": [
       "<matplotlib.axes._subplots.AxesSubplot at 0x10b422dd8>"
      ]
     },
     "execution_count": 20,
     "metadata": {},
     "output_type": "execute_result"
    },
    {
     "data": {
      "image/png": "[encoded data removed]",
      "text/plain": [
       "<Figure size 432x288 with 1 Axes>"
      ]
     },
     "metadata": {
      "needs_background": "light"
     },
     "output_type": "display_data"
    }
   ],
   "source": [
    "sns.lineplot(data=combined_df.sample(1000), x='date', y='CO2 in ppm', hue='location')"
   ]
  },
  {
   "cell_type": "code",
   "execution_count": 29,
   "metadata": {},
   "outputs": [],
   "source": [
    "combined_df['year'] = combined_df.date.apply(lambda x: x.year)\n",
    "combined_df['day'] = combined_df.date.apply(lambda x: x.day)\n",
    "combined_df['month'] = combined_df.date.apply(lambda x: x.month)\n",
    "\n"
   ]
  },
  {
   "cell_type": "code",
   "execution_count": 37,
   "metadata": {},
   "outputs": [
    {
     "data": {
      "text/plain": [
       "<matplotlib.axes._subplots.AxesSubplot at 0x1193d45f8>"
      ]
     },
     "execution_count": 37,
     "metadata": {},
     "output_type": "execute_result"
    },
    {
     "data": {
      "image/png": "[encoded data removed]",
      "text/plain": [
       "<Figure size 432x288 with 1 Axes>"
      ]
     },
     "metadata": {
      "needs_background": "light"
     },
     "output_type": "display_data"
    }
   ],
   "source": [
    "combined_df.loc[combined_df['location']=='Manua Loa'].groupby(['month'])['CO2 in ppm'].mean().plot(x='month', y='CO2 in ppm')"
   ]
  },
  {
   "cell_type": "code",
   "execution_count": 43,
   "metadata": {},
   "outputs": [
    {
     "data": {
      "text/plain": [
       "month\n",
       "1     27.855524\n",
       "2     27.748986\n",
       "3     27.210873\n",
       "4     27.801165\n",
       "5     27.333019\n",
       "6     27.401485\n",
       "7     27.406171\n",
       "8     27.239674\n",
       "9     27.335060\n",
       "10    27.306730\n",
       "11    27.603286\n",
       "12    28.027321\n",
       "Name: CO2 in ppm, dtype: float64"
      ]
     },
     "execution_count": 43,
     "metadata": {},
     "output_type": "execute_result"
    }
   ],
   "source": [
    "combined_df.loc[combined_df['location']=='Manua Loa'].groupby(['month']).std()['CO2 in ppm']"
   ]
  },
  {
   "cell_type": "code",
   "execution_count": null,
   "metadata": {},
   "outputs": [],
   "source": []
  }
 ],
 "metadata": {
  "kernelspec": {
   "display_name": "co2",
   "language": "python",
   "name": "co2"
  },
  "language_info": {
   "codemirror_mode": {
    "name": "ipython",
    "version": 3
   },
   "file_extension": ".py",
   "mimetype": "text/x-python",
   "name": "python",
   "nbconvert_exporter": "python",
   "pygments_lexer": "ipython3",
   "version": "3.6.8"
  }
 },
 "nbformat": 4,
 "nbformat_minor": 2
}
